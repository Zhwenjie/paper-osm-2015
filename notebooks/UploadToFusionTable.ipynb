{
 "cells": [
  {
   "cell_type": "code",
   "execution_count": 1,
   "metadata": {
    "collapsed": false
   },
   "outputs": [],
   "source": [
    "import shapely.wkt\n",
    "import os\n",
    "from osgeo import ogr\n",
    "\n",
    "GFT_REFRESH_TOKEN = os.environ['GFT_REFRESH_TOKEN']\n",
    "\n",
    "from osgeo import gdal\n",
    "\n",
    "ogr.UseExceptions()\n",
    "\n",
    "# gdal.SetConfigOption('CPL_DEBUG', 'ON')\n",
    "gdal.SetConfigOption('CPL_DEBUG', 'OFF')"
   ]
  },
  {
   "cell_type": "code",
   "execution_count": 2,
   "metadata": {
    "collapsed": false
   },
   "outputs": [],
   "source": [
    "def convert2ft(input_path, output_path, append=False, fix_geometry=False, simplify_geometry=False, start_index=0):\n",
    "    filename = input_path\n",
    "\n",
    "    src_ds = ogr.Open(input_path)\n",
    "    src_lyr = src_ds.GetLayerByIndex(0)\n",
    "    f = src_lyr.GetFeature(0)\n",
    "\n",
    "    # create feature table\n",
    "    dst_ds = ogr.GetDriverByName('GFT').Open('GFT:' + GFT_REFRESH_TOKEN, True)\n",
    "    \n",
    "    if append:\n",
    "        dst_lyr = dst_ds.GetLayerByName(output_path)\n",
    "    else:\n",
    "        dst_lyr = dst_ds.CreateLayer(output_path)\n",
    "\n",
    "        # create fields using OGR\n",
    "        [dst_lyr.CreateField(f.GetFieldDefnRef(i)) for i in range(f.GetFieldCount())]\n",
    "\n",
    "    index = 0\n",
    "    batch_size = 15\n",
    "    index_batch = 0\n",
    "    for feat in src_lyr:\n",
    "        if index < start_index:\n",
    "            index = index + 1\n",
    "            continue\n",
    "        \n",
    "        try:\n",
    "            geom = shapely.wkt.loads(feat.GetGeometryRef().ExportToWkt())\n",
    "        except Exception as e: \n",
    "            print('Error({0}), skipping geometry.'.format(e))\n",
    "            continue\n",
    "\n",
    "        if fix_geometry and not geom.is_valid:\n",
    "            geom = geom.buffer(0.0)\n",
    "        \n",
    "        if simplify_geometry:\n",
    "            geom = geom.simplify(0.004)\n",
    "\n",
    "        f = ogr.Feature(dst_lyr.GetLayerDefn())\n",
    "        \n",
    "        # set field values\n",
    "        for i in range(feat.GetFieldCount()):\n",
    "            fd = feat.GetFieldDefnRef(i)\n",
    "            f.SetField(fd.GetName(), feat.GetField(fd.GetName()))\n",
    "            \n",
    "            #print(fd.GetName())\n",
    "            #print(feat.GetField(fd.GetName()))\n",
    "        \n",
    "        # set geometry    \n",
    "        f.SetGeometry(ogr.CreateGeometryFromWkt(geom.to_wkt()))\n",
    "        \n",
    "        if index_batch == 0:\n",
    "            dst_lyr.StartTransaction()\n",
    "            \n",
    "        index_batch = index_batch + 1\n",
    "        \n",
    "        # create feature\n",
    "        feature = dst_lyr.CreateFeature(f)\n",
    "        \n",
    "        f.Destroy() \n",
    "        \n",
    "        index = index + 1\n",
    "\n",
    "        if index_batch > batch_size:\n",
    "            dst_lyr.CommitTransaction()\n",
    "            index_batch = 0\n",
    "        \n",
    "    src_ds.Destroy()\n",
    "\n",
    "    dst_ds.Destroy()"
   ]
  },
  {
   "cell_type": "code",
   "execution_count": null,
   "metadata": {
    "collapsed": true
   },
   "outputs": [],
   "source": [
    "input_file = '/home/gennadiy_donchyts/src/GlobalHAND30/all.shp'\n",
    "output_table = 'max4_2'\n",
    "append = False\n",
    "fix_geometry = True\n",
    "simplify_geometry = False\n",
    "\n",
    "# gdal.SetConfigOption('CPL_DEBUG', 'OFF')\n",
    "    \n",
    "# convert2ft(input_file, output_table, append, fix_geometry, simplify_geometry) \n",
    "convert2ft(input_file, output_table, append, fix_geometry, simplify_geometry, 10617) # append"
   ]
  },
  {
   "cell_type": "code",
   "execution_count": null,
   "metadata": {
    "collapsed": false
   },
   "outputs": [],
   "source": [
    "input_file = '/home/gennadiy_donchyts/src/GlobalHAND30/all.shp'\n",
    "output_table = 'max4_2'\n",
    "append = False\n",
    "fix_geometry = True\n",
    "simplify_geometry = False\n",
    "\n",
    "# gdal.SetConfigOption('CPL_DEBUG', 'OFF')\n",
    "    \n",
    "# convert2ft(input_file, output_table, append, fix_geometry, simplify_geometry) \n",
    "convert2ft(input_file, output_table, append, fix_geometry, simplify_geometry, 10617) # append"
   ]
  },
  {
   "cell_type": "code",
   "execution_count": 6,
   "metadata": {
    "collapsed": false
   },
   "outputs": [],
   "source": [
    "ds = ogr.Open(input_file)\n",
    "l = ds.GetLayerByIndex(0)\n",
    "f = l.GetFeature(0)\n"
   ]
  },
  {
   "cell_type": "code",
   "execution_count": 7,
   "metadata": {
    "collapsed": false
   },
   "outputs": [
    {
     "name": "stdout",
     "output_type": "stream",
     "text": [
      "19328\n"
     ]
    }
   ],
   "source": [
    "print(l.GetFeatureCount())"
   ]
  },
  {
   "cell_type": "code",
   "execution_count": null,
   "metadata": {
    "collapsed": true
   },
   "outputs": [],
   "source": [
    "driver = ogr.GetDriverByName('GFT')\n",
    "dataSource = driver.Open('GFT:' + GFT_REFRESH_TOKEN, True)\n",
    "print(dataSource)\n",
    "\n",
    "\n",
    "layerCount = dataSource.GetLayerCount()\n",
    "\n",
    "print('Layer count: {0}'.format(layerCount))\n",
    "\n",
    "for i in range(layerCount):\n",
    "    layer = dataSource.GetLayer(i)\n",
    "    print('{0}: {1}'.format(i, layer.GetName()))\n",
    "    \n",
    "    "
   ]
  }
 ],
 "metadata": {
  "kernelspec": {
   "display_name": "Python 2",
   "language": "python",
   "name": "python2"
  },
  "language_info": {
   "codemirror_mode": {
    "name": "ipython",
    "version": 2
   },
   "file_extension": ".py",
   "mimetype": "text/x-python",
   "name": "python",
   "nbconvert_exporter": "python",
   "pygments_lexer": "ipython2",
   "version": "2.7.9"
  }
 },
 "nbformat": 4,
 "nbformat_minor": 0
}
