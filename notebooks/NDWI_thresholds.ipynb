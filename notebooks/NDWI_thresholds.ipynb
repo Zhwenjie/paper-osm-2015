{
 "cells": [
  {
   "cell_type": "code",
   "execution_count": 5,
   "metadata": {
    "collapsed": false
   },
   "outputs": [
    {
     "name": "stdout",
     "output_type": "stream",
     "text": [
      "Reading Oauth2 creadentials from: C:\\Users\\Gennadii/.config/earthengine/credentials ...\n"
     ]
    }
   ],
   "source": [
    "import shapely as sl\n",
    "import shapely.geometry\n",
    "import fiona\n",
    "import ee\n",
    "from utils.shapely_plot import draw\n",
    "\n",
    "pylab.rcParams['figure.figsize'] = (20.0, 15.0)\n",
    "\n",
    "ee.Initialize() "
   ]
  },
  {
   "cell_type": "code",
   "execution_count": 6,
   "metadata": {
    "collapsed": false
   },
   "outputs": [],
   "source": [
    "basins_au = [\n",
    "  None, \n",
    "  None, \n",
    "  ee.FeatureCollection('ft:1Dq_Q2JvvYkYO-kFX7L4E4Nzycwc50j9hfhSsBQJW'),\n",
    "  ee.FeatureCollection('ft:1778IyIZLZKSKVgko9X3aIV94E7jcm28uniyD6ycp'),\n",
    "  ee.FeatureCollection('ft:1WZ4Utbbatdl3vFVK7kTmAyHDyRjhMVfXeJeJTnBa'),\n",
    "  ee.FeatureCollection('ft:1rrk-yEOb8ILSolV_kSVD1qGxszHcy0cSL9UnUxIh'),\n",
    "  ee.FeatureCollection('ft:1-aMEhsi4usdxVUSSjKkJGC8pir3duCi_5oItnxtT'),\n",
    "  ee.FeatureCollection('ft:1YDeXF2LN8gDeJAOJTX0Kwp9QwV_-ZFI2llKilTGu'),\n",
    "  ee.FeatureCollection('ft:1YQ1qpXis4Z9z0NvKLdz-FjxFP5q2_fABi6aNSFn0') \n",
    "];"
   ]
  },
  {
   "cell_type": "code",
   "execution_count": 7,
   "metadata": {
    "collapsed": false
   },
   "outputs": [
    {
     "name": "stdout",
     "output_type": "stream",
     "text": [
      "('Area: ', <ee.ee_number.Number object at 0x000000000D6266A0>)\n",
      "('Pixels: ', 17928435.15141334)\n",
      "[140.74771225582722, -34.49968792050428]\n"
     ]
    }
   ],
   "source": [
    "# REGION1 Murray & Darling Catchment\n",
    "# var region = { catchments: basins_au[3], main: 564, sub: basins_au[7], sub_min: 5640000, sub_max: 5649999, zoom: 6 }\n",
    "# var region = { catchments: basins_au[3], main: 564, sub: basins_au[8], sub_min: 56400000, sub_max: 56499999, zoom: 6 }\n",
    "# var region = { catchments: basins_au[4], main: 5641, sub: basins_au[8], sub_min: 56410000, sub_max: 56419999, zoom: 7 }\n",
    "# var region = { catchments: basins_au[4], main: 5641, sub: basins_au[7], sub_min: 5641000, sub_max: 5641999, zoom: 7 }\n",
    "region = { 'catchments': basins_au[6], 'main': 564105, 'sub': basins_au[8], 'sub_min': 56410500, 'sub_max': 56410599, 'zoom': 9 }\n",
    "\n",
    "aoi_features = region['catchments'];\n",
    "aoi = aoi_features.filter(ee.Filter.eq('PFAF_ID', region['main']));\n",
    "not_aoi = aoi_features.filter(ee.Filter.neq('PFAF_ID', region['main']));\n",
    "main_catchment_pfaf_min = region['sub_min'];\n",
    "main_catchment_pfaf_max = region['sub_max'];\n",
    "\n",
    "print('Area: ', aoi.geometry().area())\n",
    "print('Pixels: ', aoi.geometry().area().getInfo() / (30.0*30.0))\n",
    "\n",
    "center = aoi.geometry().centroid().getInfo()['coordinates']\n",
    "print(center)"
   ]
  },
  {
   "cell_type": "code",
   "execution_count": 24,
   "metadata": {
    "collapsed": false
   },
   "outputs": [
    {
     "data": {
      "text/html": [
       "<img src=\"https://earthengine.googleapis.com//api/thumb?thumbid=b07b9c0e165f3eb53aefead71a02c1b4&token=d42ac44b9a262f9bf83789e7c9904d46\"/>"
      ],
      "text/plain": [
       "<IPython.core.display.Image object>"
      ]
     },
     "execution_count": 24,
     "metadata": {},
     "output_type": "execute_result"
    }
   ],
   "source": [
    "image = ee.Image('CGIAR/SRTM90_V4')\n",
    "north = 37.0\n",
    "south = 35.0\n",
    "east = -111.0\n",
    "west = -115.0\n",
    "coords = [[west, north], [west, south], [east, south], [east, north], [west, north]]\n",
    "url = image.visualize(min=[0], max=[3000]).getThumbUrl({'region': coords, 'format': 'png', 'size': '500'})\n",
    "\n",
    "from IPython.display import Image\n",
    "Image(url=url)\n"
   ]
  },
  {
   "cell_type": "code",
   "execution_count": 18,
   "metadata": {
    "collapsed": false
   },
   "outputs": [
    {
     "name": "stdout",
     "output_type": "stream",
     "text": [
      "https://earthengine.googleapis.com//api/thumb?thumbid=0dd2931075523fdc04a6c1be978f6520&token=c78141cc760afc946765243fb08e838f\n"
     ]
    },
    {
     "ename": "ValueError",
     "evalue": "Cannot embed the 'com//api/thumb?thumbid=0dd2931075523fdc04a6c1be978f6520&token=c78141cc760afc946765243fb08e838f' image format",
     "output_type": "error",
     "traceback": [
      "\u001b[1;31m---------------------------------------------------------------------------\u001b[0m",
      "\u001b[1;31mValueError\u001b[0m                                Traceback (most recent call last)",
      "\u001b[1;32m<ipython-input-18-a13e5a7131e9>\u001b[0m in \u001b[0;36m<module>\u001b[1;34m()\u001b[0m\n\u001b[0;32m      6\u001b[0m \u001b[1;32mprint\u001b[0m\u001b[1;33m(\u001b[0m\u001b[0murl\u001b[0m\u001b[1;33m)\u001b[0m\u001b[1;33m\u001b[0m\u001b[0m\n\u001b[0;32m      7\u001b[0m \u001b[1;32mfrom\u001b[0m \u001b[0mIPython\u001b[0m\u001b[1;33m.\u001b[0m\u001b[0mdisplay\u001b[0m \u001b[1;32mimport\u001b[0m \u001b[0mImage\u001b[0m\u001b[1;33m\u001b[0m\u001b[0m\n\u001b[1;32m----> 8\u001b[1;33m \u001b[0mImage\u001b[0m\u001b[1;33m(\u001b[0m\u001b[0mfilename\u001b[0m\u001b[1;33m=\u001b[0m\u001b[0murl\u001b[0m\u001b[1;33m)\u001b[0m\u001b[1;33m\u001b[0m\u001b[0m\n\u001b[0m",
      "\u001b[1;32mC:\\Anaconda\\lib\\site-packages\\IPython\\core\\display.pyc\u001b[0m in \u001b[0;36m__init__\u001b[1;34m(self, data, url, filename, format, embed, width, height, retina)\u001b[0m\n\u001b[0;32m    725\u001b[0m \u001b[1;33m\u001b[0m\u001b[0m\n\u001b[0;32m    726\u001b[0m         \u001b[1;32mif\u001b[0m \u001b[0mself\u001b[0m\u001b[1;33m.\u001b[0m\u001b[0membed\u001b[0m \u001b[1;32mand\u001b[0m \u001b[0mself\u001b[0m\u001b[1;33m.\u001b[0m\u001b[0mformat\u001b[0m \u001b[1;32mnot\u001b[0m \u001b[1;32min\u001b[0m \u001b[0mself\u001b[0m\u001b[1;33m.\u001b[0m\u001b[0m_ACCEPTABLE_EMBEDDINGS\u001b[0m\u001b[1;33m:\u001b[0m\u001b[1;33m\u001b[0m\u001b[0m\n\u001b[1;32m--> 727\u001b[1;33m             \u001b[1;32mraise\u001b[0m \u001b[0mValueError\u001b[0m\u001b[1;33m(\u001b[0m\u001b[1;34m\"Cannot embed the '%s' image format\"\u001b[0m \u001b[1;33m%\u001b[0m \u001b[1;33m(\u001b[0m\u001b[0mself\u001b[0m\u001b[1;33m.\u001b[0m\u001b[0mformat\u001b[0m\u001b[1;33m)\u001b[0m\u001b[1;33m)\u001b[0m\u001b[1;33m\u001b[0m\u001b[0m\n\u001b[0m\u001b[0;32m    728\u001b[0m         \u001b[0mself\u001b[0m\u001b[1;33m.\u001b[0m\u001b[0mwidth\u001b[0m \u001b[1;33m=\u001b[0m \u001b[0mwidth\u001b[0m\u001b[1;33m\u001b[0m\u001b[0m\n\u001b[0;32m    729\u001b[0m         \u001b[0mself\u001b[0m\u001b[1;33m.\u001b[0m\u001b[0mheight\u001b[0m \u001b[1;33m=\u001b[0m \u001b[0mheight\u001b[0m\u001b[1;33m\u001b[0m\u001b[0m\n",
      "\u001b[1;31mValueError\u001b[0m: Cannot embed the 'com//api/thumb?thumbid=0dd2931075523fdc04a6c1be978f6520&token=c78141cc760afc946765243fb08e838f' image format"
     ]
    }
   ],
   "source": [
    "image = aoi.reduceToImage(['PFAF_ID'], ee.Reducer.min())\n",
    "\n",
    "?image.getThumbURL\n",
    "\n",
    "url = image.getThumbURL({'dimensions':\"800x600\"})\n",
    "print(url)\n",
    "from IPython.display import Image\n",
    "Image(filename=url)\n"
   ]
  },
  {
   "cell_type": "code",
   "execution_count": 5,
   "metadata": {
    "collapsed": false
   },
   "outputs": [
    {
     "ename": "SyntaxError",
     "evalue": "invalid syntax (<ipython-input-5-a6f2565483fb>, line 3)",
     "output_type": "error",
     "traceback": [
      "\u001b[1;36m  File \u001b[1;32m\"<ipython-input-5-a6f2565483fb>\"\u001b[1;36m, line \u001b[1;32m3\u001b[0m\n\u001b[1;33m    var subcatchments = region.sub\u001b[0m\n\u001b[1;37m                    ^\u001b[0m\n\u001b[1;31mSyntaxError\u001b[0m\u001b[1;31m:\u001b[0m invalid syntax\n"
     ]
    }
   ],
   "source": [
    "Map.centerObject(aoi, region['zoom']);\n",
    "\n",
    "var subcatchments = region.sub\n",
    "  .filter(ee.Filter.rangeContains('PFAF_ID', main_catchment_pfaf_min, main_catchment_pfaf_max))\n",
    "  //.limit(10);\n",
    "\n",
    "var addBG = function() {\n",
    "  addToMapAsRaster(ee.FeatureCollection(ee.Geometry(Map.getBounds(true))), 'map (white)', 'ffffff', 0, 1, true, false);\n",
    "  addToMapAsRaster(aoi, 'aoi (black)', '000000', 0, 1, true, false);\n",
    "}\n",
    "\n",
    "var addSmallCatchments = function() {\n",
    "  addToMapAsRaster(not_aoi, 'not aoi', '000000,101010', 0, 0.5, true, true);\n",
    "  addToMapAsRaster(subcatchments, 'catchments', '101030,000000', 1, 0.9, false, false);\n",
    "  addToMapAsRaster(subcatchments, 'catchments (light)', 'a0a0ff,000000', 1, 0.9, false, false);\n",
    "}\n",
    "\n",
    "var LC8_BANDS = ['B2',   'B3',    'B4',  'B5',  'B6',    'B7',    'B8', 'B10', 'BQA'];\n",
    "var LC7_BANDS = ['B1',   'B2',    'B3',  'B4',  'B5',    'B7',    'B8', 'B8',  'B7'];\n",
    "var STD_NAMES = ['blue', 'green', 'red', 'nir', 'swir1', 'swir2', 'pan', 'temp', 'BQA'];\n",
    "var images = ee.ImageCollection('LANDSAT/LC8_L1T_TOA')\n",
    "  //.filterDate(\"2014-01-01\", \"2015-01-01\")\n",
    "  .filterBounds(aoi)\n",
    "  //.filterBounds(Map.getBounds(true))\n",
    "  .select(LC8_BANDS, STD_NAMES);\n",
    "\n",
    "var maxImageCount = 100;\n",
    "\n",
    "// compute cloud cover\n",
    "var addClouds = function() {\n",
    "  // total number of images\n",
    "  var count = images.select(0).count().clip(aoi);\n",
    "  Map.addLayer(count, {min:0, max:maxImageCount, palette:'cbc9e2,9e9ac8,6a51a3', opacity:0.9}, 'pixel count', false);\n",
    "\n",
    "  var chart = Chart.image.histogram(count, aoi, scale, 50); \n",
    "  chart = chart.setOptions({ title: 'Pixel Count' });\n",
    "  //chart.setChartType('PieChart');\n",
    "  print(chart)\n",
    "  \n",
    "  // number of clean pixels using BQA\n",
    "  var bad = [61440,59424,57344,56320,53248,52256,52224,49184,49152,39936,31744,28590,26656]\n",
    "                               \n",
    "  var clearFn = function(img) { return img.select('BQA').eq(bad).reduce('max').not(); };\n",
    "  var clear = images.select('BQA').map(clearFn).sum().clip(aoi);\n",
    "\n",
    "  // Map.addLayer(clear, {min:0, max:maxImageCount, palette:'cbc9e2,9e9ac8,6a51a3', opacity:0.9}, 'clear', false)\n",
    "\n",
    "  var cloudRatio = ee.Image(1).subtract(clear.divide(count));\n",
    "  Map.addLayer(cloudRatio.mask(cloudRatio), {palette:'FFFFFF'}, 'clouds ratio', false)\n",
    "  \n",
    "  //print(Chart.image.histogram(cloudRatio, aoi, 60, 80));\n",
    "  for(var th = 0.1; th <= 0.9; th += 0.1) {\n",
    "     Map.addLayer(cloudRatio.mask(cloudRatio.gte(th)).mask(cloudRatio.mask(cloudRatio.gte(th))), {min:0, max:1, palette:'FFFFFF'}, 'clouds > ' + Math.round(th*100) + '%', false);\n",
    "  }\n",
    "  \n",
    "  // compute mean cloud ratio per sub-catchment\n",
    "  subcatchments = subcatchments.map(function(catchment){\n",
    "    var catchmentCloudRatio = cloudRatio.reduceRegion(ee.Reducer.mean(), catchment.geometry(), scale).get('constant');\n",
    "\n",
    "    return catchment.set('cloud_ratio', catchmentCloudRatio);\n",
    "  })\n",
    "  \n",
    "  Map.addLayer(subcatchments.reduceToImage(['cloud_ratio'], ee.Reducer.first()), {palette: ['000000', 'ffffff']}, 'cloud ratio (mean)', false);\n",
    "}\n",
    "\n",
    "// compute NDWI min/max/mean, use cloud ratio to select percentiles\n",
    "var waterIndices = function() {\n",
    "  var mean = images.reduce(ee.Reducer.intervalMean(20, 21));\n",
    "//var ndwi = mean.normalizedDifference(['nir_mean', 'red_mean']) // NDVI\n",
    "  var ndwi = mean.normalizedDifference(['nir_mean', 'green_mean']) // NDWI\n",
    "//var ndwi = mean.normalizedDifference(['swir1_mean', 'green_mean']) // MNDWI\n",
    "  \n",
    "  var computeNDWI = function(catchment) {\n",
    "    var ndwiMin = ndwi.reduceRegion(ee.Reducer.min(), catchment.geometry(), 30).get('nd');\n",
    "    //var ndwiMax = ndwi.reduceRegion(ee.Reducer.max(), catchment.geometry(), 30).get('nd');\n",
    "    //var ndwiVar = ndwi.reduceRegion(ee.Reducer.variance(), catchment.geometry(), 30).get('nd');\n",
    "\n",
    "    return catchment\n",
    "      //.set('NDWI_var', ndwiVar)\n",
    "      .set('NDWI_min', ndwiMin)\n",
    "      //.set('NDWI_max', ndwiMax);\n",
    "  }\n",
    "  \n",
    "  //Map.addLayer(ee.FeatureCollection([computeNDWI(ee.Feature(subcatchments.first()))]).reduceToImage(['NDWI_min'], ee.Reducer.first()), {min:-0.5, max:0.1, palette: ['000000', '0000ff']}, 'NDWI min', false);\n",
    "  \n",
    "  // compute mean cloud ratio per sub-catchment\n",
    "  subcatchments = subcatchments.map(computeNDWI)\n",
    "  \n",
    "  //Map.addLayer(subcatchments.reduceToImage(['NDWI_var'], ee.Reducer.first()), {min:0, max:0.1, palette: ['000000', 'ff0000']}, 'NDWI var', false);\n",
    "  Map.addLayer(subcatchments.reduceToImage(['NDWI_min'], ee.Reducer.first()), {min:-0.5, max:0.1, palette: ['000000', '0000ff']}, 'NDWI min', false);\n",
    "  //Map.addLayer(subcatchments.reduceToImage(['NDWI_max'], ee.Reducer.first()), {min:0.1, max:0.5, palette: ['000000', '00ff00']}, 'NDWI max', false);\n",
    "  //Map.addLayer(subcatchments.filter(ee.Filter.gt('NDWI_min', 0.2))\n",
    "  //  .reduceToImage(['NDWI_min'], ee.Reducer.first()), {palette: ['ffffff']}, 'NDWI min > 0.2', false);\n",
    "\n",
    "  \n",
    "}\n",
    "\n",
    "var addPercentiles = function() {\n",
    "  var images_sng = images.select('swir2', 'nir', 'green')\n",
    "  \n",
    "  for(var i=10; i<100; i+=10) {\n",
    "    Map.addLayer(images_sng.reduce(ee.Reducer.intervalMean(i, i+1)).clip(aoi),\n",
    "      {min:0.05, max:0.5}, 'image(' + i + '%)', false)\n",
    "  }\n",
    "}\n",
    "\n",
    "//addBG()\n",
    "//addPercentiles()\n",
    "waterIndices()\n",
    "//addClouds()\n",
    "addSmallCatchments()\n",
    "\n"
   ]
  },
  {
   "cell_type": "code",
   "execution_count": null,
   "metadata": {
    "collapsed": true
   },
   "outputs": [],
   "source": [
    "\n",
    "sanFrancisco = ee.Geometry.Rectangle(-122.45, 37.74, -122.4, 37.8)\n",
    "landsat8Toa = ee.ImageCollection('LANDSAT/LC8_L1T_32DAY_TOA').filterDate('2012-12-25', '2013-12-25').select('B[1-7]')\n",
    "\n",
    "def getMean(img):\n",
    "    return img.reduceRegions(sanFrancisco, ee.Reducer.mean()\n",
    "                             .forEachBand(img),200).makeArray(['B{0}'.format(x) for x in range(1,8)],'values')\n",
    "ans = ee.FeatureCollection(landsat8Toa.map(getMean)).flatten().aggregate_array('.all').getInfo()\n",
    "\n",
    "data = [x['properties']['values'] for x in ans]\n",
    "x_ = range(0,7)\n",
    "labels = ['B{0}'.format(x) for x in range(1,8)]\n",
    "\n",
    "plt.plot(data)\n",
    "plt.xticks(range(len(plt.xticks()[0])),[datetime.datetime.strptime(x['id'][:-2], \"%Y%m%d\").strftime('%b %Y') for x in ans])\n",
    "plt.legend(plt.plot(data),['B{0}'.format(x) for x in range(1,8)])\n",
    "plt.show()\n",
    "\n"
   ]
  }
 ],
 "metadata": {
  "kernelspec": {
   "display_name": "Python 2",
   "language": "python",
   "name": "python2"
  },
  "language_info": {
   "codemirror_mode": {
    "name": "ipython",
    "version": 2
   },
   "file_extension": ".py",
   "mimetype": "text/x-python",
   "name": "python",
   "nbconvert_exporter": "python",
   "pygments_lexer": "ipython2",
   "version": "2.7.9"
  }
 },
 "nbformat": 4,
 "nbformat_minor": 0
}
